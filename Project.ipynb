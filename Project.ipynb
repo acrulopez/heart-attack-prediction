{
 "cells": [
  {
   "cell_type": "markdown",
   "id": "f1bcc961-6e23-4af0-80a5-f86f72072b33",
   "metadata": {},
   "source": [
    "# Heart attack prediction"
   ]
  },
  {
   "cell_type": "code",
   "execution_count": 1,
   "id": "974c4e5f-37ed-4079-9621-77d0ebc463b6",
   "metadata": {},
   "outputs": [],
   "source": [
    "import pandas as pd\n",
    "import numpy as np"
   ]
  },
  {
   "cell_type": "markdown",
   "id": "ba1859bb-d05f-43c5-9a37-888aef40ddcf",
   "metadata": {},
   "source": [
    "## Goal"
   ]
  },
  {
   "cell_type": "markdown",
   "id": "13088755-97f4-44b6-9f19-019b3265c605",
   "metadata": {},
   "source": [
    "#### Current Cost"
   ]
  },
  {
   "cell_type": "markdown",
   "id": "d22ad543-e469-42f9-8cdc-5b04235f5dd8",
   "metadata": {},
   "source": [
    "The goal of this project is to reduce the costs associated to heart attacks in the national healthcare system by a 20%. The current cost per person is:\n",
    "\n",
    "$$ Current cost = (1-HA) * (CostNHA) + HA * (CostHA) = 4709.3€ $$\n",
    "\n",
    "$$ Current cost = 0.905799 * 0 + 0.094186 * 50000 = 4709.3€ $$\n",
    "\n",
    "HA = Heart attack probability = 0.094186\n",
    "\n",
    "CostHA = Cost of one person having a heart attack = 50000\n",
    "\n",
    "CostNHA = Cost of one person not having a heart attack = 0"
   ]
  },
  {
   "cell_type": "markdown",
   "id": "c40907c9-928c-438d-86f9-388bece018f9",
   "metadata": {},
   "source": [
    "#### After plan cost"
   ]
  },
  {
   "cell_type": "markdown",
   "id": "d647fb76-d5e4-4735-a513-dc54e2bdb95d",
   "metadata": {},
   "source": [
    "The cost per person after applying this program has several branches:\n",
    "* People that won't have a HA but were diagnosed to have one and accept to follow the plan -> Cost: 1.000€\n",
    "$$ C1 = FPP * 1.000€ $$\n",
    "\n",
    "* People that will have a heart attack but were diagnosed not to have one -> Cost: 50.000€\n",
    "$$ C2 = FNP * 50.000€ $$\n",
    "\n",
    "* People that will have a heart attack, are diagnosed to have one and decide not to take the plan -> Cost: 50.000€\n",
    "$$ C3 = TPP * (1- P(takesplan)) * 50.000€ $$\n",
    "\n",
    "* People that will have a heart attack, are diagnosed to have one and decide to take the plan, and they don't adhere to it -> Cost: 51.000€\n",
    "$$ C4 = TPP * P(takesplan) * (1-P(adheresplan)) * 51.000€ $$\n",
    "\n",
    "* People that will have a heart attack, are diagnosed to have one and decide to take the plan, they adhere to it, and it doesn't work -> Cost: 51.000€\n",
    "$$ C5 = TPP * P(takesplan) * P(adheresplan) * (1-P(planworks)) * 51.000€ $$\n",
    "\n",
    "* People that will have a heart attack, are diagnosed to have one and decide to take the plan, they adhere to it, and it works -> Cost: 1.000€\n",
    "$$ C6 = TPP * P(takesplan) * P(adheresplan) * P(planworks) * 1.000€ $$\n",
    "\n",
    "FPP = False Positive Percentage = TN / Total Cases\n",
    "\n",
    "FNP = False Negative Percentage = FN / Total Cases\n",
    "\n",
    "TPP = True Positive Percentage = TP / Total Cases\n",
    "\n",
    "P(takesplan) = Probability that someone takes the plan when is offered to him/her = 0.85\n",
    "\n",
    "P(adheresplan) = Probability that someone adheres to the plan = Unknown\n",
    "\n",
    "P(planworks) = Probability that the plan works = 0.75"
   ]
  },
  {
   "cell_type": "markdown",
   "id": "083d6480-a429-4017-8296-b52586b0add3",
   "metadata": {},
   "source": [
    "#### Formula\n",
    "We need to do a cost analysis to check the minimum percentage of adherence that we need in order to reduce the cost by 20%, that means, we need to get the value of P(adheresplan) so that the cost is equal than 80% of the current cost.\n",
    "\n",
    "$$ Currentcost * 0.8 = Newcost $$\n",
    "$$ Currentcost * 0.8 - (c1 + c2 + c3) = c4 + c5 + c6 $$\n",
    "\n",
    "$$ (Currentcost * 0.8 - (c1 + c2 + c3)) / (TPP*P(takesplan)) = $$\n",
    "$$ =((1-P(adheresplan))*51000) + (P(adheresplan)*(1-(P(planworks))*51000) + (P(adheresplan)*P(planworks)*1000) = $$\n",
    "$$ = 51000-51000*P(adheresplan) + P(adheresplan)*(1-P(planworks))*51000) + (P(adheresplan)*P(planworks)*1000) $$\n",
    "\n",
    "$$ ((Currentcost * 0.8 - (c1 + c2 + c3)) / (TPP*P(takesplan)) - 51000)/ P(adheresplan) = $$\n",
    "$$ = -51000 + (1-P(planworks))*51000) + P(planworks)*1000) $$\n",
    "\n",
    "$$ P(adheresplan) = $$\n",
    "$$ = ((Currentcost * 0.8 - (c1 + c2 + c3)) / (TPP*P(takesplan)) - 51000)/ (-51000 + (1-P(planworks))*51000) + P(planworks)*1000)) = $$\n",
    "$$ = ((Currentcost * 0.8 - (c1 + c2 + c3)) / (TPP*P(takesplan)) - 51000)/ (-P(planworks))*51000) + P(planworks)*1000))$$\n",
    "$$ = ((Currentcost * 0.8 - (c1 + c2 + c3)) / (TPP*P(takesplan)) - 51000)/ (-P(planworks))*50000)))$$\n"
   ]
  },
  {
   "cell_type": "code",
   "execution_count": 168,
   "id": "1ef98e9f-4140-4fe3-a769-c513163f2927",
   "metadata": {},
   "outputs": [],
   "source": [
    "def minimum_adheresplan_prob(fpp, fnp, tpp, p_takesplan=0.85, p_planworks=0.75):\n",
    "    nha = (df.HeartAttack.value_counts()/len(df))[0]\n",
    "    ha = 1-nha\n",
    "    \n",
    "    current_cost = ha*50000 + nha*0\n",
    "    target_new_cost = 0.8 * current_cost\n",
    "    \n",
    "    print(f\"We need a to reduce the cost per person to {target_new_cost}€\\n\")\n",
    "    \n",
    "    c1 = nha * fpp * 1000\n",
    "    c2 = ha * fnp * 50000\n",
    "    c3 = ha * tpp * (1-p_takesplan) * 50000\n",
    "    \n",
    "    p_adheresplan = (((target_new_cost - (c1+c2+c3)) / (tpp*p_takesplan)) - 51000) / (-p_planworks*50000)\n",
    "    \n",
    "    print(f\"The minimum adherence rate plan to reduce the cost by 20% is {p_adheresplan}\\n\")\n",
    "    \n",
    "    return p_adheresplan"
   ]
  },
  {
   "cell_type": "code",
   "execution_count": 169,
   "id": "31847a3e-ccaa-45bb-b475-f6982e51c4d1",
   "metadata": {},
   "outputs": [
    {
     "name": "stdout",
     "output_type": "stream",
     "text": [
      "We need a to reduce the cost per person to 3768.0542415641758€\n",
      "\n",
      "The minimum adherence rate plan to reduce the cost by 20% is 0.07348138666798575\n",
      "\n"
     ]
    },
    {
     "data": {
      "text/plain": [
       "0.07348138666798575"
      ]
     },
     "execution_count": 169,
     "metadata": {},
     "output_type": "execute_result"
    }
   ],
   "source": [
    "minimum_adheresplan_prob(0.01, 0.001, 0.09)"
   ]
  },
  {
   "cell_type": "markdown",
   "id": "d6a3f0aa-3c00-4cb9-9e2a-5a663c270e2d",
   "metadata": {},
   "source": [
    "## Load the dataset "
   ]
  },
  {
   "cell_type": "code",
   "execution_count": 2,
   "id": "feb33a13-b8c2-49a5-aed7-5f3e239c4cc5",
   "metadata": {},
   "outputs": [],
   "source": [
    "df = pd.read_csv(\"heart_disease.csv\")"
   ]
  },
  {
   "cell_type": "markdown",
   "id": "73a49990-9e6f-4422-9b67-e847b4c5c48e",
   "metadata": {},
   "source": [
    "## Data Cleaning"
   ]
  },
  {
   "cell_type": "code",
   "execution_count": 3,
   "id": "541c50d0-53b4-4245-9ea5-058f9818c7cc",
   "metadata": {},
   "outputs": [
    {
     "data": {
      "text/html": [
       "<div>\n",
       "<style scoped>\n",
       "    .dataframe tbody tr th:only-of-type {\n",
       "        vertical-align: middle;\n",
       "    }\n",
       "\n",
       "    .dataframe tbody tr th {\n",
       "        vertical-align: top;\n",
       "    }\n",
       "\n",
       "    .dataframe thead th {\n",
       "        text-align: right;\n",
       "    }\n",
       "</style>\n",
       "<table border=\"1\" class=\"dataframe\">\n",
       "  <thead>\n",
       "    <tr style=\"text-align: right;\">\n",
       "      <th></th>\n",
       "      <th>HeartAttack</th>\n",
       "      <th>HighBP</th>\n",
       "      <th>HighChol</th>\n",
       "      <th>CholCheck</th>\n",
       "      <th>BMI</th>\n",
       "      <th>Smoker</th>\n",
       "      <th>Stroke</th>\n",
       "      <th>Diabetes</th>\n",
       "      <th>PhysActivity</th>\n",
       "      <th>Fruits</th>\n",
       "      <th>Veggies</th>\n",
       "      <th>HvyAlcoholConsump</th>\n",
       "      <th>GenHlth</th>\n",
       "      <th>MentHlth</th>\n",
       "      <th>PhysHlth</th>\n",
       "      <th>DiffWalk</th>\n",
       "      <th>Sex</th>\n",
       "      <th>Age</th>\n",
       "      <th>Education</th>\n",
       "      <th>Income</th>\n",
       "    </tr>\n",
       "  </thead>\n",
       "  <tbody>\n",
       "    <tr>\n",
       "      <th>0</th>\n",
       "      <td>0.0</td>\n",
       "      <td>1.0</td>\n",
       "      <td>1.0</td>\n",
       "      <td>1.0</td>\n",
       "      <td>40.0</td>\n",
       "      <td>1.0</td>\n",
       "      <td>0.0</td>\n",
       "      <td>0.0</td>\n",
       "      <td>0.0</td>\n",
       "      <td>0.0</td>\n",
       "      <td>1.0</td>\n",
       "      <td>0.0</td>\n",
       "      <td>5.0</td>\n",
       "      <td>18.0</td>\n",
       "      <td>15.0</td>\n",
       "      <td>1.0</td>\n",
       "      <td>0.0</td>\n",
       "      <td>9.0</td>\n",
       "      <td>4.0</td>\n",
       "      <td>3.0</td>\n",
       "    </tr>\n",
       "    <tr>\n",
       "      <th>1</th>\n",
       "      <td>0.0</td>\n",
       "      <td>0.0</td>\n",
       "      <td>0.0</td>\n",
       "      <td>0.0</td>\n",
       "      <td>25.0</td>\n",
       "      <td>1.0</td>\n",
       "      <td>0.0</td>\n",
       "      <td>0.0</td>\n",
       "      <td>1.0</td>\n",
       "      <td>0.0</td>\n",
       "      <td>0.0</td>\n",
       "      <td>0.0</td>\n",
       "      <td>3.0</td>\n",
       "      <td>0.0</td>\n",
       "      <td>0.0</td>\n",
       "      <td>0.0</td>\n",
       "      <td>0.0</td>\n",
       "      <td>7.0</td>\n",
       "      <td>6.0</td>\n",
       "      <td>1.0</td>\n",
       "    </tr>\n",
       "    <tr>\n",
       "      <th>2</th>\n",
       "      <td>0.0</td>\n",
       "      <td>1.0</td>\n",
       "      <td>1.0</td>\n",
       "      <td>1.0</td>\n",
       "      <td>28.0</td>\n",
       "      <td>0.0</td>\n",
       "      <td>0.0</td>\n",
       "      <td>0.0</td>\n",
       "      <td>0.0</td>\n",
       "      <td>1.0</td>\n",
       "      <td>0.0</td>\n",
       "      <td>0.0</td>\n",
       "      <td>5.0</td>\n",
       "      <td>30.0</td>\n",
       "      <td>30.0</td>\n",
       "      <td>1.0</td>\n",
       "      <td>0.0</td>\n",
       "      <td>9.0</td>\n",
       "      <td>4.0</td>\n",
       "      <td>8.0</td>\n",
       "    </tr>\n",
       "    <tr>\n",
       "      <th>3</th>\n",
       "      <td>0.0</td>\n",
       "      <td>1.0</td>\n",
       "      <td>0.0</td>\n",
       "      <td>1.0</td>\n",
       "      <td>27.0</td>\n",
       "      <td>0.0</td>\n",
       "      <td>0.0</td>\n",
       "      <td>0.0</td>\n",
       "      <td>1.0</td>\n",
       "      <td>1.0</td>\n",
       "      <td>1.0</td>\n",
       "      <td>0.0</td>\n",
       "      <td>2.0</td>\n",
       "      <td>0.0</td>\n",
       "      <td>0.0</td>\n",
       "      <td>0.0</td>\n",
       "      <td>0.0</td>\n",
       "      <td>11.0</td>\n",
       "      <td>3.0</td>\n",
       "      <td>6.0</td>\n",
       "    </tr>\n",
       "    <tr>\n",
       "      <th>4</th>\n",
       "      <td>0.0</td>\n",
       "      <td>1.0</td>\n",
       "      <td>1.0</td>\n",
       "      <td>1.0</td>\n",
       "      <td>24.0</td>\n",
       "      <td>0.0</td>\n",
       "      <td>0.0</td>\n",
       "      <td>0.0</td>\n",
       "      <td>1.0</td>\n",
       "      <td>1.0</td>\n",
       "      <td>1.0</td>\n",
       "      <td>0.0</td>\n",
       "      <td>2.0</td>\n",
       "      <td>3.0</td>\n",
       "      <td>0.0</td>\n",
       "      <td>0.0</td>\n",
       "      <td>0.0</td>\n",
       "      <td>11.0</td>\n",
       "      <td>5.0</td>\n",
       "      <td>4.0</td>\n",
       "    </tr>\n",
       "  </tbody>\n",
       "</table>\n",
       "</div>"
      ],
      "text/plain": [
       "   HeartAttack  HighBP  HighChol  CholCheck   BMI  Smoker  Stroke  Diabetes  \\\n",
       "0          0.0     1.0       1.0        1.0  40.0     1.0     0.0       0.0   \n",
       "1          0.0     0.0       0.0        0.0  25.0     1.0     0.0       0.0   \n",
       "2          0.0     1.0       1.0        1.0  28.0     0.0     0.0       0.0   \n",
       "3          0.0     1.0       0.0        1.0  27.0     0.0     0.0       0.0   \n",
       "4          0.0     1.0       1.0        1.0  24.0     0.0     0.0       0.0   \n",
       "\n",
       "   PhysActivity  Fruits  Veggies  HvyAlcoholConsump  GenHlth  MentHlth  \\\n",
       "0           0.0     0.0      1.0                0.0      5.0      18.0   \n",
       "1           1.0     0.0      0.0                0.0      3.0       0.0   \n",
       "2           0.0     1.0      0.0                0.0      5.0      30.0   \n",
       "3           1.0     1.0      1.0                0.0      2.0       0.0   \n",
       "4           1.0     1.0      1.0                0.0      2.0       3.0   \n",
       "\n",
       "   PhysHlth  DiffWalk  Sex   Age  Education  Income  \n",
       "0      15.0       1.0  0.0   9.0        4.0     3.0  \n",
       "1       0.0       0.0  0.0   7.0        6.0     1.0  \n",
       "2      30.0       1.0  0.0   9.0        4.0     8.0  \n",
       "3       0.0       0.0  0.0  11.0        3.0     6.0  \n",
       "4       0.0       0.0  0.0  11.0        5.0     4.0  "
      ]
     },
     "execution_count": 3,
     "metadata": {},
     "output_type": "execute_result"
    }
   ],
   "source": [
    "df.head()"
   ]
  },
  {
   "cell_type": "code",
   "execution_count": 20,
   "id": "0875a19b-757a-47a1-99a4-0dbc64b25571",
   "metadata": {},
   "outputs": [
    {
     "data": {
      "text/plain": [
       "0.9057986439608956"
      ]
     },
     "execution_count": 20,
     "metadata": {},
     "output_type": "execute_result"
    }
   ],
   "source": [
    "(df.HeartAttack.value_counts()/len(df))[0]"
   ]
  },
  {
   "cell_type": "markdown",
   "id": "7012d4a2-a0a1-4952-a187-27880e45d6ed",
   "metadata": {},
   "source": [
    "## Prediction"
   ]
  },
  {
   "cell_type": "code",
   "execution_count": null,
   "id": "2fc8835c-0e71-425f-9d77-77e48d65c049",
   "metadata": {},
   "outputs": [],
   "source": [
    "pass"
   ]
  },
  {
   "cell_type": "code",
   "execution_count": null,
   "id": "f8075b5d-09ed-49e3-8df4-241a30efdfda",
   "metadata": {},
   "outputs": [],
   "source": []
  }
 ],
 "metadata": {
  "kernelspec": {
   "display_name": "Python 3 (ipykernel)",
   "language": "python",
   "name": "python3"
  },
  "language_info": {
   "codemirror_mode": {
    "name": "ipython",
    "version": 3
   },
   "file_extension": ".py",
   "mimetype": "text/x-python",
   "name": "python",
   "nbconvert_exporter": "python",
   "pygments_lexer": "ipython3",
   "version": "3.9.4"
  }
 },
 "nbformat": 4,
 "nbformat_minor": 5
}
